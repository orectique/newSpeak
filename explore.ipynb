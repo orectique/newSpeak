{
 "cells": [
  {
   "cell_type": "code",
   "execution_count": 1,
   "metadata": {},
   "outputs": [],
   "source": [
    "import pandas as pd"
   ]
  },
  {
   "cell_type": "code",
   "execution_count": 13,
   "metadata": {},
   "outputs": [
    {
     "data": {
      "text/html": [
       "<div>\n",
       "<style scoped>\n",
       "    .dataframe tbody tr th:only-of-type {\n",
       "        vertical-align: middle;\n",
       "    }\n",
       "\n",
       "    .dataframe tbody tr th {\n",
       "        vertical-align: top;\n",
       "    }\n",
       "\n",
       "    .dataframe thead th {\n",
       "        text-align: right;\n",
       "    }\n",
       "</style>\n",
       "<table border=\"1\" class=\"dataframe\">\n",
       "  <thead>\n",
       "    <tr style=\"text-align: right;\">\n",
       "      <th></th>\n",
       "      <th>lemma</th>\n",
       "      <th>part_of_speech</th>\n",
       "      <th>synonyms</th>\n",
       "    </tr>\n",
       "  </thead>\n",
       "  <tbody>\n",
       "    <tr>\n",
       "      <th>0</th>\n",
       "      <td>.22-caliber</td>\n",
       "      <td>adjective</td>\n",
       "      <td>.22 caliber;.22 calibre;.22-calibre</td>\n",
       "    </tr>\n",
       "    <tr>\n",
       "      <th>1</th>\n",
       "      <td>.22-calibre</td>\n",
       "      <td>adjective</td>\n",
       "      <td>.22 caliber;.22-caliber;.22 calibre</td>\n",
       "    </tr>\n",
       "    <tr>\n",
       "      <th>2</th>\n",
       "      <td>.22 caliber</td>\n",
       "      <td>adjective</td>\n",
       "      <td>.22-caliber;.22 calibre;.22-calibre</td>\n",
       "    </tr>\n",
       "    <tr>\n",
       "      <th>3</th>\n",
       "      <td>.22 calibre</td>\n",
       "      <td>adjective</td>\n",
       "      <td>.22 caliber;.22-caliber;.22-calibre</td>\n",
       "    </tr>\n",
       "    <tr>\n",
       "      <th>4</th>\n",
       "      <td>.38-caliber</td>\n",
       "      <td>adjective</td>\n",
       "      <td>.38 caliber;.38 calibre;.38-calibre</td>\n",
       "    </tr>\n",
       "  </tbody>\n",
       "</table>\n",
       "</div>"
      ],
      "text/plain": [
       "         lemma part_of_speech                             synonyms\n",
       "0  .22-caliber      adjective  .22 caliber;.22 calibre;.22-calibre\n",
       "1  .22-calibre      adjective  .22 caliber;.22-caliber;.22 calibre\n",
       "2  .22 caliber      adjective  .22-caliber;.22 calibre;.22-calibre\n",
       "3  .22 calibre      adjective  .22 caliber;.22-caliber;.22-calibre\n",
       "4  .38-caliber      adjective  .38 caliber;.38 calibre;.38-calibre"
      ]
     },
     "execution_count": 13,
     "metadata": {},
     "output_type": "execute_result"
    }
   ],
   "source": [
    "synonyms = pd.read_csv('./synonyms.csv')\n",
    "synonyms.head()"
   ]
  },
  {
   "cell_type": "code",
   "execution_count": 14,
   "metadata": {},
   "outputs": [
    {
     "data": {
      "text/html": [
       "<div>\n",
       "<style scoped>\n",
       "    .dataframe tbody tr th:only-of-type {\n",
       "        vertical-align: middle;\n",
       "    }\n",
       "\n",
       "    .dataframe tbody tr th {\n",
       "        vertical-align: top;\n",
       "    }\n",
       "\n",
       "    .dataframe thead th {\n",
       "        text-align: right;\n",
       "    }\n",
       "</style>\n",
       "<table border=\"1\" class=\"dataframe\">\n",
       "  <thead>\n",
       "    <tr style=\"text-align: right;\">\n",
       "      <th></th>\n",
       "      <th>lemma</th>\n",
       "      <th>part_of_speech</th>\n",
       "      <th>synonyms</th>\n",
       "    </tr>\n",
       "  </thead>\n",
       "  <tbody>\n",
       "    <tr>\n",
       "      <th>count</th>\n",
       "      <td>126998</td>\n",
       "      <td>127001</td>\n",
       "      <td>126999</td>\n",
       "    </tr>\n",
       "    <tr>\n",
       "      <th>unique</th>\n",
       "      <td>117203</td>\n",
       "      <td>5</td>\n",
       "      <td>108544</td>\n",
       "    </tr>\n",
       "    <tr>\n",
       "      <th>top</th>\n",
       "      <td>right</td>\n",
       "      <td>noun</td>\n",
       "      <td>Dostoyevsky;Dostoevski;Dostoevsky;Feodor Dosto...</td>\n",
       "    </tr>\n",
       "    <tr>\n",
       "      <th>freq</th>\n",
       "      <td>5</td>\n",
       "      <td>94600</td>\n",
       "      <td>15</td>\n",
       "    </tr>\n",
       "  </tbody>\n",
       "</table>\n",
       "</div>"
      ],
      "text/plain": [
       "         lemma part_of_speech  \\\n",
       "count   126998         127001   \n",
       "unique  117203              5   \n",
       "top      right           noun   \n",
       "freq         5          94600   \n",
       "\n",
       "                                                 synonyms  \n",
       "count                                              126999  \n",
       "unique                                             108544  \n",
       "top     Dostoyevsky;Dostoevski;Dostoevsky;Feodor Dosto...  \n",
       "freq                                                   15  "
      ]
     },
     "execution_count": 14,
     "metadata": {},
     "output_type": "execute_result"
    }
   ],
   "source": [
    "synonyms.describe()"
   ]
  },
  {
   "cell_type": "code",
   "execution_count": 20,
   "metadata": {},
   "outputs": [
    {
     "data": {
      "text/html": [
       "<div>\n",
       "<style scoped>\n",
       "    .dataframe tbody tr th:only-of-type {\n",
       "        vertical-align: middle;\n",
       "    }\n",
       "\n",
       "    .dataframe tbody tr th {\n",
       "        vertical-align: top;\n",
       "    }\n",
       "\n",
       "    .dataframe thead th {\n",
       "        text-align: right;\n",
       "    }\n",
       "</style>\n",
       "<table border=\"1\" class=\"dataframe\">\n",
       "  <thead>\n",
       "    <tr style=\"text-align: right;\">\n",
       "      <th></th>\n",
       "      <th>lemma</th>\n",
       "      <th>part_of_speech</th>\n",
       "      <th>synonyms</th>\n",
       "    </tr>\n",
       "  </thead>\n",
       "  <tbody>\n",
       "    <tr>\n",
       "      <th>0</th>\n",
       "      <td>a-ok</td>\n",
       "      <td>satellite</td>\n",
       "      <td>a-okay</td>\n",
       "    </tr>\n",
       "    <tr>\n",
       "      <th>1</th>\n",
       "      <td>a-okay</td>\n",
       "      <td>satellite</td>\n",
       "      <td>a-ok</td>\n",
       "    </tr>\n",
       "    <tr>\n",
       "      <th>2</th>\n",
       "      <td>a-one</td>\n",
       "      <td>satellite</td>\n",
       "      <td>ace;A-one;crack;first-rate;super;tiptop;topnot...</td>\n",
       "    </tr>\n",
       "    <tr>\n",
       "      <th>3</th>\n",
       "      <td>a.m.</td>\n",
       "      <td>satellite</td>\n",
       "      <td>ante meridiem</td>\n",
       "    </tr>\n",
       "    <tr>\n",
       "      <th>4</th>\n",
       "      <td>a.m.</td>\n",
       "      <td>adverb</td>\n",
       "      <td>ante meridiem;A.M.</td>\n",
       "    </tr>\n",
       "  </tbody>\n",
       "</table>\n",
       "</div>"
      ],
      "text/plain": [
       "    lemma part_of_speech                                           synonyms\n",
       "0    a-ok      satellite                                             a-okay\n",
       "1  a-okay      satellite                                               a-ok\n",
       "2   a-one      satellite  ace;A-one;crack;first-rate;super;tiptop;topnot...\n",
       "3    a.m.      satellite                                      ante meridiem\n",
       "4    a.m.         adverb                                 ante meridiem;A.M."
      ]
     },
     "execution_count": 20,
     "metadata": {},
     "output_type": "execute_result"
    }
   ],
   "source": [
    "synonyms = synonyms[synonyms['lemma'].str[0].str.isalpha() == True].reset_index(drop=True)\n",
    "synonyms.head()"
   ]
  },
  {
   "cell_type": "code",
   "execution_count": 31,
   "metadata": {},
   "outputs": [
    {
     "data": {
      "text/plain": [
       "array(['satellite', 'adverb', 'verb', 'adjective', 'noun'], dtype=object)"
      ]
     },
     "execution_count": 31,
     "metadata": {},
     "output_type": "execute_result"
    }
   ],
   "source": [
    "types = synonyms['part_of_speech'].unique()\n",
    "types"
   ]
  },
  {
   "cell_type": "code",
   "execution_count": 32,
   "metadata": {},
   "outputs": [],
   "source": [
    "satellite = synonyms[synonyms['part_of_speech'] == 'satellite']\n",
    "adverb = synonyms[synonyms['part_of_speech'] == 'adverb']\n",
    "verb = synonyms[synonyms['part_of_speech'] == 'verb']\n",
    "adjective = synonyms[synonyms['part_of_speech'] == 'adjective']\n",
    "noun = synonyms[synonyms['part_of_speech'] == 'noun']"
   ]
  },
  {
   "cell_type": "code",
   "execution_count": null,
   "metadata": {},
   "outputs": [],
   "source": []
  }
 ],
 "metadata": {
  "interpreter": {
   "hash": "2c4eb22513297cec5654cfcbb03155dbdfdfce47361ebee1c20ce7fc1403920c"
  },
  "kernelspec": {
   "display_name": "Python 3.9.4 64-bit ('env': conda)",
   "language": "python",
   "name": "python3"
  },
  "language_info": {
   "codemirror_mode": {
    "name": "ipython",
    "version": 3
   },
   "file_extension": ".py",
   "mimetype": "text/x-python",
   "name": "python",
   "nbconvert_exporter": "python",
   "pygments_lexer": "ipython3",
   "version": "3.9.4"
  },
  "orig_nbformat": 4
 },
 "nbformat": 4,
 "nbformat_minor": 2
}
